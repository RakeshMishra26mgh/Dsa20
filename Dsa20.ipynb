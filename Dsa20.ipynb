{
  "nbformat": 4,
  "nbformat_minor": 0,
  "metadata": {
    "colab": {
      "provenance": [],
      "authorship_tag": "ABX9TyMprH6RTZam59e7LZNEMkIf",
      "include_colab_link": true
    },
    "kernelspec": {
      "name": "python3",
      "display_name": "Python 3"
    },
    "language_info": {
      "name": "python"
    }
  },
  "cells": [
    {
      "cell_type": "markdown",
      "metadata": {
        "id": "view-in-github",
        "colab_type": "text"
      },
      "source": [
        "<a href=\"https://colab.research.google.com/github/RakeshMishra26mgh/Dsa20/blob/main/Dsa20.ipynb\" target=\"_parent\"><img src=\"https://colab.research.google.com/assets/colab-badge.svg\" alt=\"Open In Colab\"/></a>"
      ]
    },
    {
      "cell_type": "markdown",
      "source": [
        "Answer 1:-"
      ],
      "metadata": {
        "id": "3j2UCvpIoE06"
      }
    },
    {
      "cell_type": "code",
      "source": [
        "class Node:\n",
        "    def __init__(self, data):\n",
        "        self.data = data\n",
        "        self.left = None\n",
        "        self.right = None\n",
        "\n",
        "def find_max_sum(root):\n",
        "    if root is None:\n",
        "        return 0\n",
        "    left_sum = find_max_sum(root.left)\n",
        "    right_sum = find_max_sum(root.right)\n",
        "    return root.data + left_sum + right_sum\n",
        "\n",
        "def max_subtree_sum(root):\n",
        "    if root is None:\n",
        "        return 0\n",
        "    left_sum = max_subtree_sum(root.left)\n",
        "    right_sum = max_subtree_sum(root.right)\n",
        "    return max(find_max_sum(root), left_sum, right_sum)\n",
        "\n",
        "def insert_node(root, data):\n",
        "    if root is None:\n",
        "        return Node(data)\n",
        "    else:\n",
        "        if data <= root.data:\n",
        "            root.left = insert_node(root.left, data)\n",
        "        else:\n",
        "            root.right = insert_node(root.right, data)\n",
        "        return root\n",
        "\n",
        "if __name__ == '__main__':\n",
        "    n = int(input(\"Enter the number of nodes in the binary tree: \"))\n",
        "    print(\"Enter the values of the nodes in level order:\")\n",
        "    root = None\n",
        "    for i in range(n):\n",
        "        data = int(input())\n",
        "        root = insert_node(root, data)\n",
        "\n",
        "    print(\"Max subtree sum is\", max_subtree_sum(root))\n"
      ],
      "metadata": {
        "id": "XkiaBRQFAkMo"
      },
      "execution_count": null,
      "outputs": []
    },
    {
      "cell_type": "markdown",
      "source": [
        "Answer 2:-"
      ],
      "metadata": {
        "id": "lLjFK5xXBVPx"
      }
    },
    {
      "cell_type": "code",
      "source": [
        "from collections import deque\n",
        "\n",
        "class Node:\n",
        "    def __init__(self, data):\n",
        "        self.data = data\n",
        "        self.left = None\n",
        "        self.right = None\n",
        "\n",
        "def level_order_traversal(root):\n",
        "    if root is None:\n",
        "        return\n",
        "    q = deque()\n",
        "    q.append(root)\n",
        "    while q:\n",
        "        node = q.popleft()\n",
        "        print(node.data, end=\" \")\n",
        "        if node.left is not None:\n",
        "            q.append(node.left)\n",
        "        if node.right is not None:\n",
        "            q.append(node.right)\n",
        "\n",
        "def construct_bst(arr):\n",
        "    if not arr:\n",
        "        return None\n",
        "    root = Node(arr[0])\n",
        "    q = deque()\n",
        "    q.append(root)\n",
        "    i = 1\n",
        "    while i < len(arr):\n",
        "        node = q.popleft()\n",
        "        temp = Node(arr[i])\n",
        "        i += 1\n",
        "        node.left = temp\n",
        "        q.append(temp)\n",
        "        if i < len(arr):\n",
        "            temp = Node(arr[i])\n",
        "            i += 1\n",
        "            node.right = temp\n",
        "            q.append(temp)\n",
        "    return root\n",
        "\n",
        "if __name__ == '__main__':\n",
        "    n = int(input(\"Enter the number of nodes in the binary tree: \"))\n",
        "    print(\"Enter the values of the nodes in level order:\")\n",
        "    arr = []\n",
        "    for i in range(n):\n",
        "        data = int(input())\n",
        "        arr.append(data)\n",
        "    root = construct_bst(arr)\n",
        "    print(\"Level order traversal of the constructed BST is:\")\n",
        "    level_order_traversal(root)\n"
      ],
      "metadata": {
        "id": "fkASsXzzBXWP"
      },
      "execution_count": null,
      "outputs": []
    },
    {
      "cell_type": "markdown",
      "source": [
        "Answer 3:-"
      ],
      "metadata": {
        "id": "KDbJIYiT09w6"
      }
    },
    {
      "cell_type": "code",
      "source": [
        "class Node:\n",
        "    def __init__(self, data):\n",
        "        self.data = data\n",
        "        self.left = None\n",
        "        self.right = None\n",
        "\n",
        "def isBST(arr):\n",
        "    n = len(arr)\n",
        "    if n == 0:\n",
        "        return True\n",
        "\n",
        "    root = Node(arr[0])\n",
        "    for i in range(1, n):\n",
        "        temp = root\n",
        "        while temp:\n",
        "            if arr[i] > temp.data:\n",
        "                if temp.right is None:\n",
        "                    temp.right = Node(arr[i])\n",
        "                    break\n",
        "                else:\n",
        "                    temp = temp.right\n",
        "            elif arr[i] < temp.data:\n",
        "                if temp.left is None:\n",
        "                    temp.left = Node(arr[i])\n",
        "                    break\n",
        "                else:\n",
        "                    temp = temp.left\n",
        "            else:\n",
        "                return False\n",
        "\n",
        "    return True\n",
        "\n",
        "arr = input(\"Enter a list of integers separated by spaces: \").split()\n",
        "arr = [int(x) for x in arr]\n",
        "\n",
        "if isBST(arr):\n",
        "    print(\"Yes\")\n",
        "else:\n",
        "    print(\"No\")\n"
      ],
      "metadata": {
        "id": "5dMaH7bZ3wYr"
      },
      "execution_count": null,
      "outputs": []
    }
  ]
}